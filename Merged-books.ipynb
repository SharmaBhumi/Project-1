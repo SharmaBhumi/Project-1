{
 "cells": [
  {
   "cell_type": "code",
   "execution_count": 1,
   "metadata": {},
   "outputs": [
    {
     "name": "stdout",
     "output_type": "stream",
     "text": [
      "Collecting nbdime\n",
      "\u001b[?25l  Downloading https://files.pythonhosted.org/packages/0f/3f/668922f04fa6848437d8486c495ceea2fbe2b011e1084cb49a792c4bec31/nbdime-1.1.0-py2.py3-none-any.whl (4.3MB)\n",
      "\u001b[K     |████████████████████████████████| 4.3MB 440kB/s eta 0:00:01\n",
      "\u001b[?25hRequirement already satisfied: notebook in /anaconda3/envs/PythonData/lib/python3.6/site-packages (from nbdime) (6.0.0)\n",
      "Requirement already satisfied: six in /anaconda3/envs/PythonData/lib/python3.6/site-packages (from nbdime) (1.12.0)\n",
      "Collecting colorama (from nbdime)\n",
      "  Downloading https://files.pythonhosted.org/packages/4f/a6/728666f39bfff1719fc94c481890b2106837da9318031f71a8424b662e12/colorama-0.4.1-py2.py3-none-any.whl\n",
      "Requirement already satisfied: requests in /anaconda3/envs/PythonData/lib/python3.6/site-packages (from nbdime) (2.22.0)\n",
      "Requirement already satisfied: jinja2>=2.9 in /anaconda3/envs/PythonData/lib/python3.6/site-packages (from nbdime) (2.10.1)\n",
      "Requirement already satisfied: tornado in /anaconda3/envs/PythonData/lib/python3.6/site-packages (from nbdime) (6.0.3)\n",
      "Requirement already satisfied: pygments in /anaconda3/envs/PythonData/lib/python3.6/site-packages (from nbdime) (2.4.2)\n",
      "Requirement already satisfied: nbformat in /anaconda3/envs/PythonData/lib/python3.6/site-packages (from nbdime) (4.4.0)\n",
      "Collecting GitPython!=2.1.4,!=2.1.5,!=2.1.6 (from nbdime)\n",
      "\u001b[?25l  Downloading https://files.pythonhosted.org/packages/ff/f8/05f58bd7852dad7edcf70a8de953b4fa39f61cdc13812ae62118be6ffa23/GitPython-3.0.3-py3-none-any.whl (453kB)\n",
      "\u001b[K     |████████████████████████████████| 460kB 9.9MB/s eta 0:00:01\n",
      "\u001b[?25hRequirement already satisfied: traitlets>=4.2.1 in /anaconda3/envs/PythonData/lib/python3.6/site-packages (from notebook->nbdime) (4.3.2)\n",
      "Requirement already satisfied: Send2Trash in /anaconda3/envs/PythonData/lib/python3.6/site-packages (from notebook->nbdime) (1.5.0)\n",
      "Requirement already satisfied: jupyter-client>=5.3.1 in /anaconda3/envs/PythonData/lib/python3.6/site-packages (from notebook->nbdime) (5.3.1)\n",
      "Requirement already satisfied: pyzmq>=17 in /anaconda3/envs/PythonData/lib/python3.6/site-packages (from notebook->nbdime) (18.1.0)\n",
      "Requirement already satisfied: nbconvert in /anaconda3/envs/PythonData/lib/python3.6/site-packages (from notebook->nbdime) (5.5.0)\n",
      "Requirement already satisfied: ipykernel in /anaconda3/envs/PythonData/lib/python3.6/site-packages (from notebook->nbdime) (5.1.2)\n",
      "Requirement already satisfied: prometheus-client in /anaconda3/envs/PythonData/lib/python3.6/site-packages (from notebook->nbdime) (0.7.1)\n",
      "Requirement already satisfied: terminado>=0.8.1 in /anaconda3/envs/PythonData/lib/python3.6/site-packages (from notebook->nbdime) (0.8.2)\n",
      "Requirement already satisfied: jupyter-core>=4.4.0 in /anaconda3/envs/PythonData/lib/python3.6/site-packages (from notebook->nbdime) (4.5.0)\n",
      "Requirement already satisfied: ipython-genutils in /anaconda3/envs/PythonData/lib/python3.6/site-packages (from notebook->nbdime) (0.2.0)\n",
      "Requirement already satisfied: certifi>=2017.4.17 in /anaconda3/envs/PythonData/lib/python3.6/site-packages (from requests->nbdime) (2019.6.16)\n",
      "Requirement already satisfied: idna<2.9,>=2.5 in /anaconda3/envs/PythonData/lib/python3.6/site-packages (from requests->nbdime) (2.8)\n",
      "Requirement already satisfied: chardet<3.1.0,>=3.0.2 in /anaconda3/envs/PythonData/lib/python3.6/site-packages (from requests->nbdime) (3.0.4)\n",
      "Requirement already satisfied: urllib3!=1.25.0,!=1.25.1,<1.26,>=1.21.1 in /anaconda3/envs/PythonData/lib/python3.6/site-packages (from requests->nbdime) (1.25.5)\n",
      "Requirement already satisfied: MarkupSafe>=0.23 in /anaconda3/envs/PythonData/lib/python3.6/site-packages (from jinja2>=2.9->nbdime) (1.1.1)\n",
      "Requirement already satisfied: jsonschema!=2.5.0,>=2.4 in /anaconda3/envs/PythonData/lib/python3.6/site-packages (from nbformat->nbdime) (3.0.2)\n",
      "Collecting gitdb2>=2.0.0 (from GitPython!=2.1.4,!=2.1.5,!=2.1.6->nbdime)\n",
      "\u001b[?25l  Downloading https://files.pythonhosted.org/packages/03/6c/99296f89bad2ef85626e1df9f677acbee8885bb043ad82ad3ed4746d2325/gitdb2-2.0.6-py2.py3-none-any.whl (63kB)\n",
      "\u001b[K     |████████████████████████████████| 71kB 18.8MB/s eta 0:00:01\n",
      "\u001b[?25hRequirement already satisfied: decorator in /anaconda3/envs/PythonData/lib/python3.6/site-packages (from traitlets>=4.2.1->notebook->nbdime) (4.4.0)\n",
      "Requirement already satisfied: python-dateutil>=2.1 in /anaconda3/envs/PythonData/lib/python3.6/site-packages (from jupyter-client>=5.3.1->notebook->nbdime) (2.8.0)\n",
      "Requirement already satisfied: mistune>=0.8.1 in /anaconda3/envs/PythonData/lib/python3.6/site-packages (from nbconvert->notebook->nbdime) (0.8.4)\n",
      "Requirement already satisfied: entrypoints>=0.2.2 in /anaconda3/envs/PythonData/lib/python3.6/site-packages (from nbconvert->notebook->nbdime) (0.3)\n",
      "Requirement already satisfied: testpath in /anaconda3/envs/PythonData/lib/python3.6/site-packages (from nbconvert->notebook->nbdime) (0.4.2)\n",
      "Requirement already satisfied: defusedxml in /anaconda3/envs/PythonData/lib/python3.6/site-packages (from nbconvert->notebook->nbdime) (0.6.0)\n",
      "Requirement already satisfied: pandocfilters>=1.4.1 in /anaconda3/envs/PythonData/lib/python3.6/site-packages (from nbconvert->notebook->nbdime) (1.4.2)\n",
      "Requirement already satisfied: bleach in /anaconda3/envs/PythonData/lib/python3.6/site-packages (from nbconvert->notebook->nbdime) (3.1.0)\n",
      "Requirement already satisfied: ipython>=5.0.0 in /anaconda3/envs/PythonData/lib/python3.6/site-packages (from ipykernel->notebook->nbdime) (7.8.0)\n",
      "Requirement already satisfied: setuptools in /anaconda3/envs/PythonData/lib/python3.6/site-packages (from jsonschema!=2.5.0,>=2.4->nbformat->nbdime) (41.0.1)\n",
      "Requirement already satisfied: pyrsistent>=0.14.0 in /anaconda3/envs/PythonData/lib/python3.6/site-packages (from jsonschema!=2.5.0,>=2.4->nbformat->nbdime) (0.14.11)\n",
      "Requirement already satisfied: attrs>=17.4.0 in /anaconda3/envs/PythonData/lib/python3.6/site-packages (from jsonschema!=2.5.0,>=2.4->nbformat->nbdime) (19.1.0)\n",
      "Collecting smmap2>=2.0.0 (from gitdb2>=2.0.0->GitPython!=2.1.4,!=2.1.5,!=2.1.6->nbdime)\n",
      "  Downloading https://files.pythonhosted.org/packages/55/d2/866d45e3a121ee15a1dc013824d58072fd5c7799c9c34d01378eb262ca8f/smmap2-2.0.5-py2.py3-none-any.whl\n",
      "Requirement already satisfied: webencodings in /anaconda3/envs/PythonData/lib/python3.6/site-packages (from bleach->nbconvert->notebook->nbdime) (0.5.1)\n",
      "Requirement already satisfied: appnope; sys_platform == \"darwin\" in /anaconda3/envs/PythonData/lib/python3.6/site-packages (from ipython>=5.0.0->ipykernel->notebook->nbdime) (0.1.0)\n",
      "Requirement already satisfied: backcall in /anaconda3/envs/PythonData/lib/python3.6/site-packages (from ipython>=5.0.0->ipykernel->notebook->nbdime) (0.1.0)\n",
      "Requirement already satisfied: pexpect; sys_platform != \"win32\" in /anaconda3/envs/PythonData/lib/python3.6/site-packages (from ipython>=5.0.0->ipykernel->notebook->nbdime) (4.7.0)\n",
      "Requirement already satisfied: prompt-toolkit<2.1.0,>=2.0.0 in /anaconda3/envs/PythonData/lib/python3.6/site-packages (from ipython>=5.0.0->ipykernel->notebook->nbdime) (2.0.9)\n",
      "Requirement already satisfied: pickleshare in /anaconda3/envs/PythonData/lib/python3.6/site-packages (from ipython>=5.0.0->ipykernel->notebook->nbdime) (0.7.5)\n",
      "Requirement already satisfied: jedi>=0.10 in /anaconda3/envs/PythonData/lib/python3.6/site-packages (from ipython>=5.0.0->ipykernel->notebook->nbdime) (0.15.1)\n",
      "Requirement already satisfied: ptyprocess>=0.5 in /anaconda3/envs/PythonData/lib/python3.6/site-packages (from pexpect; sys_platform != \"win32\"->ipython>=5.0.0->ipykernel->notebook->nbdime) (0.6.0)\n",
      "Requirement already satisfied: wcwidth in /anaconda3/envs/PythonData/lib/python3.6/site-packages (from prompt-toolkit<2.1.0,>=2.0.0->ipython>=5.0.0->ipykernel->notebook->nbdime) (0.1.7)\n",
      "Requirement already satisfied: parso>=0.5.0 in /anaconda3/envs/PythonData/lib/python3.6/site-packages (from jedi>=0.10->ipython>=5.0.0->ipykernel->notebook->nbdime) (0.5.1)\n",
      "Installing collected packages: colorama, smmap2, gitdb2, GitPython, nbdime\n",
      "Successfully installed GitPython-3.0.3 colorama-0.4.1 gitdb2-2.0.6 nbdime-1.1.0 smmap2-2.0.5\n",
      "Note: you may need to restart the kernel to use updated packages.\n"
     ]
    }
   ],
   "source": [
    "pip install nbdime"
   ]
  },
  {
   "cell_type": "code",
   "execution_count": 2,
   "metadata": {},
   "outputs": [
    {
     "name": "stdout",
     "output_type": "stream",
     "text": [
      "Chris-Work-Race.ipynb              README.md\r\n",
      "Chris-Work-Rifles-Final.ipynb      Race-Cleaning.ipynb\r\n",
      "Chris-Work.ipynb.cloud             Recoded-Race.csv\r\n",
      "Cleaned-gun-deaths.csv             \u001b[34mResources\u001b[m\u001b[m/\r\n",
      "Data Processing Guide.docx         Yearly_trend_for_Gun_Deaths.ipynb\r\n",
      "Exploration.ipynb                  deats_coded.csv\r\n",
      "Gun-Deaths-Project-Proposal.docx   gun_death_trend_for_gender.ipynb\r\n",
      "ICD-10-codes.xlsx                  imrandataframe.ipynb\r\n",
      "\u001b[34mImages-Chris\u001b[m\u001b[m/                      percent-surviving.png\r\n",
      "Merged-books.ipynb                 suicide-by-gun.ipynb\r\n",
      "\u001b[34mPDFs\u001b[m\u001b[m/                              ~$n-Deaths-Project-Proposal.docx\r\n",
      "\u001b[34mProposal\u001b[m\u001b[m/                          ~$oject One Proposal - Final.docx\r\n"
     ]
    }
   ],
   "source": [
    "ls"
   ]
  },
  {
   "cell_type": "code",
   "execution_count": 5,
   "metadata": {},
   "outputs": [
    {
     "ename": "NameError",
     "evalue": "name 'nbdiff' is not defined",
     "output_type": "error",
     "traceback": [
      "\u001b[0;31m---------------------------------------------------------------------------\u001b[0m",
      "\u001b[0;31mNameError\u001b[0m                                 Traceback (most recent call last)",
      "\u001b[0;32m<ipython-input-5-1fd7320f0235>\u001b[0m in \u001b[0;36m<module>\u001b[0;34m\u001b[0m\n\u001b[0;32m----> 1\u001b[0;31m \u001b[0mnbdiff\u001b[0m \u001b[0;34m(\u001b[0m\u001b[0;34m\"Chris-Work-Race.ipynb\"\u001b[0m \u001b[0;34m,\u001b[0m \u001b[0;34m\"Chris-Work-Rifles-Final.ipynb\"\u001b[0m\u001b[0;34m)\u001b[0m\u001b[0;34m\u001b[0m\u001b[0;34m\u001b[0m\u001b[0m\n\u001b[0m",
      "\u001b[0;31mNameError\u001b[0m: name 'nbdiff' is not defined"
     ]
    }
   ],
   "source": [
    "nbdiff (\"Chris-Work-Race.ipynb\" , \"Chris-Work-Rifles-Final.ipynb\")"
   ]
  },
  {
   "cell_type": "code",
   "execution_count": null,
   "metadata": {},
   "outputs": [],
   "source": []
  }
 ],
 "metadata": {
  "kernelspec": {
   "display_name": "Python 3",
   "language": "python",
   "name": "python3"
  },
  "language_info": {
   "codemirror_mode": {
    "name": "ipython",
    "version": 3
   },
   "file_extension": ".py",
   "mimetype": "text/x-python",
   "name": "python",
   "nbconvert_exporter": "python",
   "pygments_lexer": "ipython3",
   "version": "3.6.9"
  }
 },
 "nbformat": 4,
 "nbformat_minor": 2
}
