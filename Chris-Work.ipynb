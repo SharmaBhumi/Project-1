{
 "cells": [
  {
   "cell_type": "markdown",
   "metadata": {},
   "source": [
    "# Goals for Chris \n",
    "1. Have gun deaths by assault weapons/rifles/large weapons increased? \n",
    "2. Does race play a factor in suicide by gun?"
   ]
  },
  {
   "cell_type": "code",
   "execution_count": 1,
   "metadata": {},
   "outputs": [],
   "source": [
    "#importations\n",
    "import pandas as pd\n",
    "import matplotlib.pyplot as plt\n",
    "import numpy as np"
   ]
  },
  {
   "cell_type": "code",
   "execution_count": 6,
   "metadata": {},
   "outputs": [
    {
     "data": {
      "text/plain": [
       "X74     42125\n",
       "X95     37419\n",
       "X72     18116\n",
       "X73      8667\n",
       "X93      3126\n",
       "Y350     1560\n",
       "X94      1519\n",
       "W34      1027\n",
       "Y24       728\n",
       "W32       271\n",
       "W33       174\n",
       "Y22       124\n",
       "Y23        71\n",
       "Y355       69\n",
       "Y356       61\n",
       "Y357        7\n",
       "Y351        1\n",
       "Name: ICD10, dtype: int64"
      ]
     },
     "execution_count": 6,
     "metadata": {},
     "output_type": "execute_result"
    }
   ],
   "source": [
    "df_cleaned = pd.read_csv('Deats_coded.csv')\n",
    "df_cleaned.head()\n",
    "df_cleaned['ICD10'].value_counts()"
   ]
  },
  {
   "cell_type": "code",
   "execution_count": 5,
   "metadata": {},
   "outputs": [
    {
     "name": "stdout",
     "output_type": "stream",
     "text": [
      "Chris-Work.ipynb                   README.md\r\n",
      "Cleaned-gun-deaths.csv             \u001b[34mResources\u001b[m\u001b[m/\r\n",
      "Data Processing Guide.docx         Untitled.ipynb\r\n",
      "Exploration.ipynb                  deats_coded.csv\r\n",
      "Gun-Deaths-Project-Proposal.docx   initial_dataframe.ipynb\r\n",
      "\u001b[34mPDFs\u001b[m\u001b[m/                              ~$oject One Proposal - Final.docx\r\n",
      "\u001b[34mProposal\u001b[m\u001b[m/\r\n"
     ]
    }
   ],
   "source": []
  },
  {
   "cell_type": "code",
   "execution_count": null,
   "metadata": {},
   "outputs": [],
   "source": []
  }
 ],
 "metadata": {
  "kernelspec": {
   "display_name": "Python 3",
   "language": "python",
   "name": "python3"
  },
  "language_info": {
   "codemirror_mode": {
    "name": "ipython",
    "version": 3
   },
   "file_extension": ".py",
   "mimetype": "text/x-python",
   "name": "python",
   "nbconvert_exporter": "python",
   "pygments_lexer": "ipython3",
   "version": "3.6.9"
  }
 },
 "nbformat": 4,
 "nbformat_minor": 2
}
