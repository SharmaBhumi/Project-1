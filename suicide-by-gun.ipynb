{
 "cells": [
  {
   "cell_type": "code",
   "execution_count": 1,
   "metadata": {},
   "outputs": [],
   "source": [
    "#importations\n",
    "import pandas as pd\n",
    "import matplotlib.pyplot as plt\n",
    "import numpy as np\n",
    "import seaborn as sns\n",
    "import scipy.stats as stats\n",
    "from matplotlib.pyplot import figure\n"
   ]
  },
  {
   "cell_type": "code",
   "execution_count": 2,
   "metadata": {},
   "outputs": [
    {
     "data": {
      "text/plain": [
       "White                        73173\n",
       "Black                        29165\n",
       "Hispanic                      9846\n",
       "American Indian               1169\n",
       "Asian                         1051\n",
       "Asian or Pacific Islander      661\n",
       "Name: Race-Simplified, dtype: int64"
      ]
     },
     "execution_count": 2,
     "metadata": {},
     "output_type": "execute_result"
    }
   ],
   "source": [
    "df_cleaned = pd.read_csv('Recoded-Race.csv')\n",
    "df_cleaned.head()\n",
    "#list all ICD 10 codes\n",
    "df_cleaned[\"Race-Simplified\"].value_counts()"
   ]
  },
  {
   "cell_type": "code",
   "execution_count": 3,
   "metadata": {},
   "outputs": [],
   "source": [
    "#create list of ICD 10 codes associated with suicide\n",
    "suicide_guns = ['X74', 'X73', 'X72']\n",
    "#create an expression that has each ICD10 as a possible condition\n",
    "suicide_guns_regex = '|' .join(suicide_guns)"
   ]
  },
  {
   "cell_type": "code",
   "execution_count": 4,
   "metadata": {},
   "outputs": [
    {
     "data": {
      "text/plain": [
       "Index(['Unnamed: 0', 'Unnamed: 0.1', 'Resident_Status', 'Month_Of_Death',\n",
       "       'Sex', 'Age', 'Age_Group', 'Place_Of_Death', 'Marital_Status',\n",
       "       'DOW_of_Death', 'Data_Year', 'Injured_At_Work', 'Manner_Of_Death',\n",
       "       'Activity_Code', 'Place_Of_Causal_Injury', 'Race', 'Hispanic_Origin',\n",
       "       'Causes_of_Death', 'ICD10', 'Race-Simplified', 'ICD10-Description'],\n",
       "      dtype='object')"
      ]
     },
     "execution_count": 4,
     "metadata": {},
     "output_type": "execute_result"
    }
   ],
   "source": [
    "df_suicide = df_cleaned[df_cleaned['ICD10'].str.contains(suicide_guns_regex)]\n",
    "#visualize our value counts to show that the data worked\n",
    "df_suicide['ICD10'].value_counts()\n",
    "df_suicide.columns"
   ]
  },
  {
   "cell_type": "code",
   "execution_count": 5,
   "metadata": {},
   "outputs": [],
   "source": [
    "#group by year and Race, resetting index to keep column names available\n",
    "suicide_year_cat = df_suicide.groupby(['Data_Year', 'Race']).count().reset_index()\n",
    "#rename column\n",
    "suicide_year_cat = suicide_year_cat.rename(columns={\"Unnamed: 0\": \"Number of Deaths\"})"
   ]
  },
  {
   "cell_type": "code",
   "execution_count": 6,
   "metadata": {},
   "outputs": [],
   "source": [
    "#visualize data\n",
    "suicide_year_cat\n",
    "\n",
    "df_suicide_total = df_suicide.groupby(['Data_Year']).count().reset_index()\n",
    "df_suicide_total = df_suicide_total.rename(columns = {'Unnamed: 0' : 'Number of Deaths'})"
   ]
  },
  {
   "cell_type": "code",
   "execution_count": 7,
   "metadata": {},
   "outputs": [
    {
     "data": {
      "text/plain": [
       "Index(['Data_Year', 'Number of Deaths', 'Unnamed: 0.1', 'Resident_Status',\n",
       "       'Month_Of_Death', 'Sex', 'Age', 'Age_Group', 'Place_Of_Death',\n",
       "       'Marital_Status', 'DOW_of_Death', 'Injured_At_Work', 'Manner_Of_Death',\n",
       "       'Activity_Code', 'Place_Of_Causal_Injury', 'Race', 'Hispanic_Origin',\n",
       "       'Causes_of_Death', 'ICD10', 'Race-Simplified', 'ICD10-Description'],\n",
       "      dtype='object')"
      ]
     },
     "execution_count": 7,
     "metadata": {},
     "output_type": "execute_result"
    }
   ],
   "source": [
    "#visualize dataframe without grouping\n",
    "df_suicide_total.columns"
   ]
  },
  {
   "cell_type": "code",
   "execution_count": 69,
   "metadata": {},
   "outputs": [
    {
     "data": {
      "image/png": "[encoded data removed]",
      "text/plain": [
       "<Figure size 432x288 with 1 Axes>"
      ]
     },
     "metadata": {
      "needs_background": "light"
     },
     "output_type": "display_data"
    }
   ],
   "source": [
    "#create axis\n",
    "\n",
    "x_axis = df_suicide_total['Data_Year']\n",
    "y_axis = df_suicide_total['Number of Deaths']\n",
    "colors = np.array([\"blue\"])\n",
    "\n",
    "fig, ax = plt.subplots()\n",
    "def autolabel(rects):\n",
    "   \n",
    "   for rect in rects:\n",
    "       height = rect.get_height()\n",
    "       ax.annotate('{}'.format(height),\n",
    "                   xy=(rect.get_x() + rect.get_width() / 2, height),\n",
    "                   xytext=(0, 2),  # 3 points vertical offset\n",
    "                   textcoords=\"offset points\",\n",
    "                   ha='center', va='bottom')\n",
    "rect=ax.bar(x_axis, y_axis, color='r', width=0.35 , align=\"center\")\n",
    "autolabel(rect)\n",
    "\n",
    "\n",
    "# Plot\n",
    "plt.bar(x_axis, y_axis)\n",
    "plt.title('Number of Gun Deaths By Suicide By Year')\n",
    "plt.xlabel('Year')\n",
    "plt.ylabel('Number of Deaths')\n",
    "plt.ylim(bottom = 0, top = 50000)\n",
    "fig = plt.gcf()\n",
    "fig.set_size_inches(6, 4, forward=True)\n",
    "fig.savefig(\"Gun-deaths-suicide.png\", dpi =200)\n"
   ]
  },
  {
   "cell_type": "code",
   "execution_count": 9,
   "metadata": {},
   "outputs": [
    {
     "name": "stdout",
     "output_type": "stream",
     "text": [
      "68908\n"
     ]
    },
    {
     "data": {
      "text/plain": [
       "Power_divergenceResult(statistic=73.07041272421199, pvalue=1.3581929809779631e-16)"
      ]
     },
     "execution_count": 9,
     "metadata": {},
     "output_type": "execute_result"
    }
   ],
   "source": [
    "#conduct Chi-Square with the years of the biggest difference\n",
    "# Observed data in a (hypothetical) year where deaths are the same for each year\n",
    "total = df_suicide_total[\"Number of Deaths\"].sum()\n",
    "deaths_by_year = df_suicide_total[\"Number of Deaths\"]\n",
    "print (total)\n",
    "observed = pd.Series([deaths_by_year[0], deaths_by_year[1], deaths_by_year[2]], index=[\"2015\", \"2016\", \"2017\"])\n",
    "df = pd.DataFrame([observed]).T\n",
    "df[1] = total/3\n",
    "df.columns = [\"observed\", \"expected\"]\n",
    "critical_value = stats.chi2.ppf(q = 0.95, df = 2)\n",
    "\n",
    "# Run the chi square test with stats.chisquare()\n",
    "stats.chisquare(df['observed'], df['expected'])\n",
    "#we can conlcude based on a chi-square test that the number of deaths by suicide has increased and is\n",
    "#statistically significant"
   ]
  },
  {
   "cell_type": "code",
   "execution_count": 10,
   "metadata": {},
   "outputs": [
    {
     "data": {
      "text/html": [
       "<div>\n",
       "<style scoped>\n",
       "    .dataframe tbody tr th:only-of-type {\n",
       "        vertical-align: middle;\n",
       "    }\n",
       "\n",
       "    .dataframe tbody tr th {\n",
       "        vertical-align: top;\n",
       "    }\n",
       "\n",
       "    .dataframe thead th {\n",
       "        text-align: right;\n",
       "    }\n",
       "</style>\n",
       "<table border=\"1\" class=\"dataframe\">\n",
       "  <thead>\n",
       "    <tr style=\"text-align: right;\">\n",
       "      <th>Race-Simplified</th>\n",
       "      <th>American Indian</th>\n",
       "      <th>Asian</th>\n",
       "      <th>Asian or Pacific Islander</th>\n",
       "      <th>Black</th>\n",
       "      <th>Hispanic</th>\n",
       "      <th>White</th>\n",
       "    </tr>\n",
       "  </thead>\n",
       "  <tbody>\n",
       "    <tr>\n",
       "      <td>0</td>\n",
       "      <td>200</td>\n",
       "      <td>213</td>\n",
       "      <td>81</td>\n",
       "      <td>1142</td>\n",
       "      <td>1053</td>\n",
       "      <td>19371</td>\n",
       "    </tr>\n",
       "    <tr>\n",
       "      <td>1</td>\n",
       "      <td>204</td>\n",
       "      <td>219</td>\n",
       "      <td>120</td>\n",
       "      <td>1361</td>\n",
       "      <td>1136</td>\n",
       "      <td>19916</td>\n",
       "    </tr>\n",
       "    <tr>\n",
       "      <td>2</td>\n",
       "      <td>232</td>\n",
       "      <td>234</td>\n",
       "      <td>140</td>\n",
       "      <td>1457</td>\n",
       "      <td>1233</td>\n",
       "      <td>20596</td>\n",
       "    </tr>\n",
       "  </tbody>\n",
       "</table>\n",
       "</div>"
      ],
      "text/plain": [
       "Race-Simplified  American Indian  Asian  Asian or Pacific Islander  Black  \\\n",
       "0                            200    213                         81   1142   \n",
       "1                            204    219                        120   1361   \n",
       "2                            232    234                        140   1457   \n",
       "\n",
       "Race-Simplified  Hispanic  White  \n",
       "0                    1053  19371  \n",
       "1                    1136  19916  \n",
       "2                    1233  20596  "
      ]
     },
     "execution_count": 10,
     "metadata": {},
     "output_type": "execute_result"
    }
   ],
   "source": [
    "#pivot table for breakdown by ICD10 code\n",
    "suicide_year_cat = df_suicide.groupby(['Data_Year', 'Race-Simplified']).count().reset_index()\n",
    "suicide_year_cat.columns\n",
    "#drop unnecessary frames\n",
    "suicide_year_cat = suicide_year_cat.drop(['Month_Of_Death', 'Resident_Status', 'Sex', 'Age', 'Age_Group', 'Place_Of_Death', \n",
    "                                          'Marital_Status', 'DOW_of_Death', 'Injured_At_Work', 'Manner_Of_Death' ,'Activity_Code',  'Place_Of_Causal_Injury' ,'Hispanic_Origin', 'Causes_of_Death', 'ICD10'], axis=1)\n",
    "suicide_year_cat\n",
    "race_pivot = suicide_year_cat.pivot(index = \"Data_Year\", columns=\"Race-Simplified\").reset_index()\n",
    "race_pivot = race_pivot.rename(columns={\"Unnamed: 0\": \"Number of Deaths\"})\n",
    "race_pivot[\"Number of Deaths\"]"
   ]
  },
  {
   "cell_type": "code",
   "execution_count": 70,
   "metadata": {},
   "outputs": [
    {
     "data": {
      "image/png": "[encoded data removed]",
      "text/plain": [
       "<Figure size 1332x756 with 1 Axes>"
      ]
     },
     "metadata": {
      "needs_background": "light"
     },
     "output_type": "display_data"
    },
    {
     "data": {
      "text/plain": [
       "<Figure size 48000x24000 with 0 Axes>"
      ]
     },
     "metadata": {},
     "output_type": "display_data"
    }
   ],
   "source": [
    "#plot line graph for total number of deaths, then broken down by Race\n",
    "\n",
    "# Generate the Plot (with Error Bars)\n",
    "fig, ax = plt.subplots()\n",
    "\n",
    "#create timepoints list \n",
    "timepoints = [2015, 2016, 2017]\n",
    "\n",
    "\n",
    "\n",
    "races = ['American Indian',\n",
    "         'Asian',\n",
    "         'Asian or Pacific Islander',\n",
    "         'Black',\n",
    "        'Hispanic',\n",
    "         'White']\n",
    "\n",
    "colors = ['#954646', \n",
    "          '#956E46',\n",
    "          '#959546',\n",
    "          '#6E9546',\n",
    "         '#469546',\n",
    "         '#46956E']\n",
    "\n",
    "descriptions = ['American Indian',\n",
    "                 'Asian',\n",
    "                 'Asian or Pacific Islander',\n",
    "                 'Black',\n",
    "                 'Hispanic',\n",
    "                 'White']\n",
    "\n",
    "\n",
    "#set figure size, limits, and labels\n",
    "ax.set_xlabel(\"Year of Death\")\n",
    "ax.set_ylabel(\"Number of Deaths\")\n",
    "ax.set_xlim(2015, 2018)\n",
    "ax.set_ylim(0, 30000)\n",
    "fig.set_size_inches(18.5, 10.5, forward=True)\n",
    "\n",
    "\n",
    "\n",
    "#loop through list of each drugs and plot with corresponding color using zip function\n",
    "for race, color, description in zip(races, colors, descriptions):\n",
    "\n",
    "    #get number of deaths for each code\n",
    "    death_race = race_pivot['Number of Deaths'][race].tolist()\n",
    "    #generate legend description \n",
    "    description = \"Number of Deaths of\" + str(description) \n",
    "    #create actual plot\n",
    "    plt.plot(timepoints, death_race, linewidth=1, color = color, label=description, marker='o')\n",
    "    \n",
    "    \n",
    "plt.title('Number of Gun Deaths By Suicide By Year By Race')\n",
    "plt.legend(loc=\"best\", fontsize=\"small\", fancybox=True)\n",
    "figure(num=None, figsize=(160, 80), dpi=300, facecolor='w', edgecolor='k')\n",
    "\n",
    "plt.show()\n",
    "fig.savefig(\"Gun-deaths-suicide-race.png\", dpi =200)"
   ]
  },
  {
   "cell_type": "code",
   "execution_count": 71,
   "metadata": {},
   "outputs": [
    {
     "data": {
      "image/png": "[encoded data removed]",
      "text/plain": [
       "<Figure size 1332x756 with 1 Axes>"
      ]
     },
     "metadata": {
      "needs_background": "light"
     },
     "output_type": "display_data"
    },
    {
     "data": {
      "text/plain": [
       "<Figure size 48000x24000 with 0 Axes>"
      ]
     },
     "metadata": {},
     "output_type": "display_data"
    }
   ],
   "source": [
    "#same graph but without white ethnicity\n",
    "#plot line graph for total number of deaths, then broken down by Race\n",
    "\n",
    "# Generate the Plot (with Error Bars)\n",
    "fig, ax = plt.subplots()\n",
    "\n",
    "#create timepoints list \n",
    "timepoints = [2015, 2016, 2017]\n",
    "\n",
    "\n",
    "\n",
    "races = ['American Indian',\n",
    "         'Asian',\n",
    "         'Asian or Pacific Islander',\n",
    "         'Black',\n",
    "        'Hispanic',]\n",
    "\n",
    "colors = ['#954646', \n",
    "          '#956E46',\n",
    "          '#959546',\n",
    "          '#6E9546',\n",
    "         '#469546',]\n",
    "\n",
    "descriptions = ['American Indian',\n",
    "                 'Asian',\n",
    "                 'Asian or Pacific Islander',\n",
    "                 'Black',\n",
    "                 'Hispanic',]\n",
    "\n",
    "\n",
    "#set figure size, limits, and labels\n",
    "ax.set_xlabel(\"Year of Death\")\n",
    "ax.set_ylabel(\"Number of Deaths\")\n",
    "ax.set_xlim(2015, 2018)\n",
    "ax.set_ylim(0, 2000)\n",
    "fig.set_size_inches(18.5, 10.5, forward=True)\n",
    "\n",
    "\n",
    "\n",
    "#loop through list of each drugs and plot with corresponding color using zip function\n",
    "for race, color, description in zip(races, colors, descriptions):\n",
    "\n",
    "    #get number of deaths for each code\n",
    "    death_race = race_pivot['Number of Deaths'][race].tolist()\n",
    "    #generate legend description \n",
    "    description = \"Number of Deaths of\" + str(description) \n",
    "    #create actual plot\n",
    "    plt.plot(timepoints, death_race, linewidth=1, color = color, label=description, marker='o')\n",
    "    \n",
    "    \n",
    "plt.title('Number of Gun Deaths By Suicide By Year By Race, Excluding White')\n",
    "plt.legend(loc=\"best\", fontsize=\"small\", fancybox=True)\n",
    "figure(num=None, figsize=(160, 80), dpi=300, facecolor='w', edgecolor='k')\n",
    "fig.savefig(\"Gun-deaths-suicide-race-no-white.png\", dpi =200)\n",
    "plt.show()"
   ]
  },
  {
   "cell_type": "code",
   "execution_count": 13,
   "metadata": {},
   "outputs": [
    {
     "data": {
      "text/html": [
       "<div>\n",
       "<style scoped>\n",
       "    .dataframe tbody tr th:only-of-type {\n",
       "        vertical-align: middle;\n",
       "    }\n",
       "\n",
       "    .dataframe tbody tr th {\n",
       "        vertical-align: top;\n",
       "    }\n",
       "\n",
       "    .dataframe thead tr th {\n",
       "        text-align: left;\n",
       "    }\n",
       "</style>\n",
       "<table border=\"1\" class=\"dataframe\">\n",
       "  <thead>\n",
       "    <tr>\n",
       "      <th></th>\n",
       "      <th>Data_Year</th>\n",
       "      <th colspan=\"6\" halign=\"left\">Number of Deaths</th>\n",
       "      <th colspan=\"3\" halign=\"left\">Unnamed: 0.1</th>\n",
       "      <th>...</th>\n",
       "      <th colspan=\"4\" halign=\"left\">Race</th>\n",
       "      <th colspan=\"6\" halign=\"left\">ICD10-Description</th>\n",
       "    </tr>\n",
       "    <tr>\n",
       "      <th>Race-Simplified</th>\n",
       "      <th></th>\n",
       "      <th>American Indian</th>\n",
       "      <th>Asian</th>\n",
       "      <th>Asian or Pacific Islander</th>\n",
       "      <th>Black</th>\n",
       "      <th>Hispanic</th>\n",
       "      <th>White</th>\n",
       "      <th>American Indian</th>\n",
       "      <th>Asian</th>\n",
       "      <th>Asian or Pacific Islander</th>\n",
       "      <th>...</th>\n",
       "      <th>Asian or Pacific Islander</th>\n",
       "      <th>Black</th>\n",
       "      <th>Hispanic</th>\n",
       "      <th>White</th>\n",
       "      <th>American Indian</th>\n",
       "      <th>Asian</th>\n",
       "      <th>Asian or Pacific Islander</th>\n",
       "      <th>Black</th>\n",
       "      <th>Hispanic</th>\n",
       "      <th>White</th>\n",
       "    </tr>\n",
       "  </thead>\n",
       "  <tbody>\n",
       "    <tr>\n",
       "      <td>0</td>\n",
       "      <td>2015</td>\n",
       "      <td>200</td>\n",
       "      <td>213</td>\n",
       "      <td>81</td>\n",
       "      <td>1142</td>\n",
       "      <td>1053</td>\n",
       "      <td>19371</td>\n",
       "      <td>200</td>\n",
       "      <td>213</td>\n",
       "      <td>81</td>\n",
       "      <td>...</td>\n",
       "      <td>81</td>\n",
       "      <td>1142</td>\n",
       "      <td>1053</td>\n",
       "      <td>19371</td>\n",
       "      <td>200</td>\n",
       "      <td>213</td>\n",
       "      <td>81</td>\n",
       "      <td>1142</td>\n",
       "      <td>1053</td>\n",
       "      <td>19371</td>\n",
       "    </tr>\n",
       "    <tr>\n",
       "      <td>1</td>\n",
       "      <td>2016</td>\n",
       "      <td>204</td>\n",
       "      <td>219</td>\n",
       "      <td>120</td>\n",
       "      <td>1361</td>\n",
       "      <td>1136</td>\n",
       "      <td>19916</td>\n",
       "      <td>204</td>\n",
       "      <td>219</td>\n",
       "      <td>120</td>\n",
       "      <td>...</td>\n",
       "      <td>120</td>\n",
       "      <td>1361</td>\n",
       "      <td>1136</td>\n",
       "      <td>19916</td>\n",
       "      <td>204</td>\n",
       "      <td>219</td>\n",
       "      <td>120</td>\n",
       "      <td>1361</td>\n",
       "      <td>1136</td>\n",
       "      <td>19916</td>\n",
       "    </tr>\n",
       "    <tr>\n",
       "      <td>2</td>\n",
       "      <td>2017</td>\n",
       "      <td>232</td>\n",
       "      <td>234</td>\n",
       "      <td>140</td>\n",
       "      <td>1457</td>\n",
       "      <td>1233</td>\n",
       "      <td>20596</td>\n",
       "      <td>232</td>\n",
       "      <td>234</td>\n",
       "      <td>140</td>\n",
       "      <td>...</td>\n",
       "      <td>140</td>\n",
       "      <td>1457</td>\n",
       "      <td>1233</td>\n",
       "      <td>20596</td>\n",
       "      <td>232</td>\n",
       "      <td>234</td>\n",
       "      <td>140</td>\n",
       "      <td>1457</td>\n",
       "      <td>1233</td>\n",
       "      <td>20596</td>\n",
       "    </tr>\n",
       "  </tbody>\n",
       "</table>\n",
       "<p>3 rows × 25 columns</p>\n",
       "</div>"
      ],
      "text/plain": [
       "                Data_Year Number of Deaths                                  \\\n",
       "Race-Simplified            American Indian Asian Asian or Pacific Islander   \n",
       "0                    2015              200   213                        81   \n",
       "1                    2016              204   219                       120   \n",
       "2                    2017              232   234                       140   \n",
       "\n",
       "                                         Unnamed: 0.1        \\\n",
       "Race-Simplified Black Hispanic  White American Indian Asian   \n",
       "0                1142     1053  19371             200   213   \n",
       "1                1361     1136  19916             204   219   \n",
       "2                1457     1233  20596             232   234   \n",
       "\n",
       "                                           ...                      Race  \\\n",
       "Race-Simplified Asian or Pacific Islander  ... Asian or Pacific Islander   \n",
       "0                                      81  ...                        81   \n",
       "1                                     120  ...                       120   \n",
       "2                                     140  ...                       140   \n",
       "\n",
       "                                      ICD10-Description        \\\n",
       "Race-Simplified Black Hispanic  White   American Indian Asian   \n",
       "0                1142     1053  19371               200   213   \n",
       "1                1361     1136  19916               204   219   \n",
       "2                1457     1233  20596               232   234   \n",
       "\n",
       "                                                                 \n",
       "Race-Simplified Asian or Pacific Islander Black Hispanic  White  \n",
       "0                                      81  1142     1053  19371  \n",
       "1                                     120  1361     1136  19916  \n",
       "2                                     140  1457     1233  20596  \n",
       "\n",
       "[3 rows x 25 columns]"
      ]
     },
     "execution_count": 13,
     "metadata": {},
     "output_type": "execute_result"
    }
   ],
   "source": [
    "race_pivot"
   ]
  },
  {
   "cell_type": "code",
   "execution_count": 49,
   "metadata": {},
   "outputs": [
    {
     "data": {
      "text/html": [
       "<div>\n",
       "<style scoped>\n",
       "    .dataframe tbody tr th:only-of-type {\n",
       "        vertical-align: middle;\n",
       "    }\n",
       "\n",
       "    .dataframe tbody tr th {\n",
       "        vertical-align: top;\n",
       "    }\n",
       "\n",
       "    .dataframe thead th {\n",
       "        text-align: right;\n",
       "    }\n",
       "</style>\n",
       "<table border=\"1\" class=\"dataframe\">\n",
       "  <thead>\n",
       "    <tr style=\"text-align: right;\">\n",
       "      <th></th>\n",
       "      <th>Race</th>\n",
       "      <th>Pop-2015</th>\n",
       "      <th>Pop-2016</th>\n",
       "      <th>Pop-2017</th>\n",
       "      <th>Deaths-15</th>\n",
       "      <th>Deaths-16</th>\n",
       "      <th>Deaths-17</th>\n",
       "      <th>Rate-15</th>\n",
       "      <th>Rate-16</th>\n",
       "      <th>Rate-17</th>\n",
       "    </tr>\n",
       "  </thead>\n",
       "  <tbody>\n",
       "    <tr>\n",
       "      <td>0</td>\n",
       "      <td>White-Alone</td>\n",
       "      <td>197534496</td>\n",
       "      <td>197479450</td>\n",
       "      <td>197285202</td>\n",
       "      <td>19371</td>\n",
       "      <td>19916</td>\n",
       "      <td>20596</td>\n",
       "      <td>9.806388</td>\n",
       "      <td>10.085100</td>\n",
       "      <td>10.439708</td>\n",
       "    </tr>\n",
       "    <tr>\n",
       "      <td>1</td>\n",
       "      <td>Black</td>\n",
       "      <td>39597600</td>\n",
       "      <td>39717127</td>\n",
       "      <td>40129593</td>\n",
       "      <td>1142</td>\n",
       "      <td>1361</td>\n",
       "      <td>1457</td>\n",
       "      <td>2.884013</td>\n",
       "      <td>3.426733</td>\n",
       "      <td>3.630737</td>\n",
       "    </tr>\n",
       "    <tr>\n",
       "      <td>2</td>\n",
       "      <td>Hispanic</td>\n",
       "      <td>56496122</td>\n",
       "      <td>57398719</td>\n",
       "      <td>58846134</td>\n",
       "      <td>1053</td>\n",
       "      <td>1136</td>\n",
       "      <td>1233</td>\n",
       "      <td>1.863845</td>\n",
       "      <td>1.979138</td>\n",
       "      <td>2.095295</td>\n",
       "    </tr>\n",
       "  </tbody>\n",
       "</table>\n",
       "</div>"
      ],
      "text/plain": [
       "          Race   Pop-2015   Pop-2016   Pop-2017 Deaths-15 Deaths-16 Deaths-17  \\\n",
       "0  White-Alone  197534496  197479450  197285202     19371     19916     20596   \n",
       "1        Black   39597600   39717127   40129593      1142      1361      1457   \n",
       "2     Hispanic   56496122   57398719   58846134      1053      1136      1233   \n",
       "\n",
       "    Rate-15    Rate-16    Rate-17  \n",
       "0  9.806388  10.085100  10.439708  \n",
       "1  2.884013   3.426733   3.630737  \n",
       "2  1.863845   1.979138   2.095295  "
      ]
     },
     "execution_count": 49,
     "metadata": {},
     "output_type": "execute_result"
    }
   ],
   "source": [
    "#to compare the death rates better, we will calculate the crude death rates per 100k people for the top three largest categories,\n",
    "#the top three largest counts are white, black, and hispanic\n",
    "#data source: https://factfinder.census.gov/faces/tableservices/jsf/pages/productview.xhtml?pid=ACS_12_1YR_DP05&prodType=table\n",
    "\n",
    "#create dictionary of race and population\n",
    "data = {'Race': ['White-Alone', 'Black', 'Hispanic'], 'Pop-2015': [197534496, 39597600, 56496122],}\n",
    "pop_2016 = [197479450, 39717127, 57398719]\n",
    "pop_2017 = [197285202, 40129593, 58846134]\n",
    "df_rates = pd.DataFrame(data) \n",
    "df_rates[\"Pop-2016\"] = pop_2016\n",
    "df_rates[\"Pop-2017\"] = pop_2017\n",
    "deaths_15 = ['19371', '1142', '1053']\n",
    "deaths_16 = ['19916', '1361', '1136']\n",
    "deaths_17 = ['20596', '1457', '1233']\n",
    "\n",
    "df_rates[\"Deaths-15\"] = deaths_15\n",
    "df_rates[\"Deaths-16\"] = deaths_16\n",
    "df_rates[\"Deaths-17\"] = deaths_17\n",
    "\n",
    "df_rates[\"Rate-15\"] = 100000 * df_rates[\"Deaths-15\"].astype(int) / df_rates[\"Pop-2015\"].astype(int)\n",
    "df_rates[\"Rate-16\"] = 100000 * df_rates[\"Deaths-16\"].astype(int) / df_rates[\"Pop-2016\"].astype(int)\n",
    "df_rates[\"Rate-17\"] = 100000 * df_rates[\"Deaths-17\"].astype(int) / df_rates[\"Pop-2017\"].astype(int)\n",
    "df_rates"
   ]
  },
  {
   "cell_type": "code",
   "execution_count": 57,
   "metadata": {},
   "outputs": [
    {
     "data": {
      "text/plain": [
       "[1.8638447431843197, 1.9791382452280861, 2.095294824295509]"
      ]
     },
     "execution_count": 57,
     "metadata": {},
     "output_type": "execute_result"
    }
   ],
   "source": [
    "df_rates\n",
    "rates_white = df_rates.values.tolist()[0][7:10]\n",
    "rates_black = df_rates.values.tolist()[1][7:10]\n",
    "rates_hispanic = df_rates.values.tolist()[2][7:10]\n",
    "rates_hispanic"
   ]
  },
  {
   "cell_type": "code",
   "execution_count": 72,
   "metadata": {},
   "outputs": [
    {
     "data": {
      "image/png": "[encoded data removed]",
      "text/plain": [
       "<Figure size 1332x756 with 1 Axes>"
      ]
     },
     "metadata": {
      "needs_background": "light"
     },
     "output_type": "display_data"
    },
    {
     "data": {
      "text/plain": [
       "<Figure size 48000x24000 with 0 Axes>"
      ]
     },
     "metadata": {},
     "output_type": "display_data"
    }
   ],
   "source": [
    "#same graph but without white ethnicity\n",
    "#plot line graph for total number of deaths, then broken down by Race\n",
    "\n",
    "# Generate the Plot (with Error Bars)\n",
    "fig, ax = plt.subplots()\n",
    "\n",
    "#create timepoints list \n",
    "timepoints = [2015, 2016, 2017]\n",
    "\n",
    "\n",
    "\n",
    "races = ['White',\n",
    "         'Black',\n",
    "        'Hispanic']\n",
    "\n",
    "colors = ['#954646', \n",
    "          '#956E46',\n",
    "          '#759546']\n",
    "\n",
    "descriptions = ['White',\n",
    "         'Black',\n",
    "        'Hispanic']\n",
    "\n",
    "\n",
    "#set figure size, limits, and labels\n",
    "ax.set_xlabel(\"Year of Death\")\n",
    "ax.set_ylabel(\"Rate of Death\")\n",
    "ax.set_xlim(2015, 2018)\n",
    "ax.set_ylim(0, 12)\n",
    "fig.set_size_inches(18.5, 10.5, forward=True)\n",
    "\n",
    "\n",
    "\n",
    "#loop through list of each drugs with iterator variable\n",
    "for i in range(0,3):\n",
    "\n",
    "    #get number of deaths for each code\n",
    "    death_race = rates_white = df_rates.values.tolist()[i][7:10]\n",
    "    #generate legend description \n",
    "    description = \"Deaths Per 100k People for \" + str(descriptions[i]) \n",
    "    #create actual plot\n",
    "    plt.plot(timepoints, death_race, linewidth=1, color = colors[i], label=description, marker='o')\n",
    "    \n",
    "    \n",
    "plt.title('Rate of Gun Deaths By Suicide By Race')\n",
    "plt.legend(loc=\"best\", fontsize=\"small\", fancybox=True)\n",
    "figure(num=None, figsize=(160, 80), dpi=300, facecolor='w', edgecolor='k')\n",
    "fig.savefig(\"Gun-deaths-suicide-rates-top-3.png\", dpi =200)\n",
    "plt.show()"
   ]
  },
  {
   "cell_type": "code",
   "execution_count": 86,
   "metadata": {},
   "outputs": [
    {
     "name": "stdout",
     "output_type": "stream",
     "text": [
      "The test for white death rate vs hispanic death rate is statistically significantTtest_indResult(statistic=0.0, pvalue=1.0)\n",
      "The test for white death rate vs black death rate is statistically significantTtest_indResult(statistic=-5.7361192539804104, pvalue=0.019696985270141125)\n"
     ]
    }
   ],
   "source": [
    "#two sample t test for whites vs black and white vs hispanic\n",
    "# Note: Setting equal_var=False performs Welch's t-test which does \n",
    "# not assume equal population variance\n",
    "result = stats.ttest_ind(rates_white, rates_hispanic, equal_var=False)\n",
    "result_2 = stats.ttest_ind(rates_white, rates_black, equal_var=False)\n",
    "\n",
    "print (f\"The test for white death rate vs hispanic death rate is statistically significant{result}\")\n",
    "print (f\"The test for white death rate vs black death rate is statistically significant{result_2}\")"
   ]
  },
  {
   "cell_type": "code",
   "execution_count": null,
   "metadata": {},
   "outputs": [],
   "source": []
  }
 ],
 "metadata": {
  "kernelspec": {
   "display_name": "Python 3",
   "language": "python",
   "name": "python3"
  },
  "language_info": {
   "codemirror_mode": {
    "name": "ipython",
    "version": 3
   },
   "file_extension": ".py",
   "mimetype": "text/x-python",
   "name": "python",
   "nbconvert_exporter": "python",
   "pygments_lexer": "ipython3",
   "version": "3.6.9"
  }
 },
 "nbformat": 4,
 "nbformat_minor": 2
}
